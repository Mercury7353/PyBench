{
  "cells": [
    {
      "cell_type": "markdown",
      "metadata": {},
      "source": "<|user|>\n\n\u4ecehuggingface\u4e0a\u67e5\u627erag\u76f8\u5173\u7684\u6570\u636e\u96c6\uff0c\u628a\u4e0b\u8f7d\u91cf\u524d\u4e09\u7684\u6570\u636e\u96c6\u4e0b\u8f7d\u4e0b\u6765\uff0c\u4fdd\u5b58\u4e3a\u6bcf\u884c\u4e00\u4e2aJson\u7684\u683c\u5f0f\uff0c\u6bcf\u4e2ajson\u9700\u8981\u6709role\u548ccontent\u5b57\u6bb5\uff0crole\u5b57\u6bb5\u53ef\u4ee5\u662fsystem, user, assistant\u6216knowledge\uff0ccontent\u5b57\u6bb5\u662f\u5177\u4f53\u7684\u5185\u5bb9\u3002"
    },
    {
      "cell_type": "markdown",
      "metadata": {},
      "source": "<|assistant|>\n\n\u597d\u7684\uff0c\u6211\u5c06\u9996\u5148\u4f7f\u7528huggingface\u7684\u6570\u636e\u96c6API\u6765\u67e5\u627eRAG\u76f8\u5173\u7684\u6570\u636e\u96c6\uff0c\u5e76\u4e0b\u8f7d\u4e0b\u8f7d\u91cf\u524d\u4e09\u7684\u6570\u636e\u96c6\u3002\u7136\u540e\u6211\u4f1a\u5c06\u5b83\u4eec\u4fdd\u5b58\u4e3a\u6bcf\u884c\u4e00\u4e2aJSON\u7684\u683c\u5f0f\uff0c\u6bcf\u4e2aJSON\u5305\u542brole\u548ccontent\u5b57\u6bb5\u3002\n\n\u8ba9\u6211\u5148\u7f16\u5199\u4ee3\u7801\u6765\u67e5\u627e\u5e76\u4e0b\u8f7d\u6570\u636e\u96c6\u3002"
    },
    {
      "cell_type": "code",
      "execution_count": null,
      "metadata": {},
      "outputs": [
        {
          "name": "stdout",
          "text": [
            "\\x1b[33mWARNING: Retrying (Retry(total=4, connect=None, read=None, redirect=None, status=None)) after connection broken by 'NewConnectionError('<urllib3.connection.VerifiedHTTPSConnection object at 0x7ea387f6e590>: Failed to establish a new connection: [Errno -3] Temporary failure in name resolution')': /simple/datasets/\\x1b[0m\n\\x1b[33mWARNING: Retrying (Retry(total=3, connect=None, read=None, redirect=None, status=None)) after connection broken by 'NewConnectionError('<urllib3.connection.VerifiedHTTPSConnection object at 0x7ea387f6dcc0>: Failed to establish a new connection: [Errno -3] Temporary failure in name resolution')': /simple/datasets/\\x1b[0m\n\\x03\n"
          ],
          "output_type": "stream"
        }
      ],
      "source": [
        "!pip install datasets"
      ]
    },
    {
      "cell_type": "markdown",
      "metadata": {},
      "source": "<|assistant|>\n\n\u51fa\u73b0\u4e86\u8fde\u63a5\u95ee\u9898\uff0c\u6211\u4f1a\u5c1d\u8bd5\u91cd\u65b0\u5b89\u88c5\u4f9d\u8d56\u5305\u5e76\u91cd\u8bd5\u3002"
    },
    {
      "cell_type": "code",
      "execution_count": null,
      "metadata": {},
      "outputs": [
        {
          "name": "stdout",
          "text": [
            "\\x1b[33mWARNING: Retrying (Retry(total=4, connect=None, read=None, redirect=None, status=None)) after connection broken by 'NewConnectionError('<urllib3.connection.VerifiedHTTPSConnection object at 0x7ed35761a590>: Failed to establish a new connection: [Errno -3] Temporary failure in name resolution')': /simple/datasets/\\x1b[0m\n\\x1b[33mWARNING: Retrying (Retry(total=3, connect=None, read=None, redirect=None, status=None)) after connection broken by 'NewConnectionError('<urllib3.connection.VerifiedHTTPSConnection object at 0x7ed357619cc0>: Failed to establish a new connection: [Errno -3] Temporary failure in name resolution')': /simple/datasets/\\x1b[0m\n\\x03\n"
          ],
          "output_type": "stream"
        }
      ],
      "source": [
        "!pip install datasets"
      ]
    },
    {
      "cell_type": "markdown",
      "metadata": {},
      "source": "<|assistant|>\n\n\u770b\u6765\u8fde\u63a5\u95ee\u9898\u4ecd\u7136\u5b58\u5728\uff0c\u6211\u5c06\u5c1d\u8bd5\u4f7f\u7528\u53e6\u4e00\u79cd\u65b9\u6cd5\u6765\u83b7\u53d6\u6570\u636e\u96c6\u3002"
    },
    {
      "cell_type": "code",
      "execution_count": null,
      "metadata": {},
      "outputs": [
        {
          "name": "stdout",
          "text": [
            "---------------------------------------------------------------------------\nModuleNotFoundError                       Traceback (most recent call last)\nCell In[3], line 1\n----> 1 from datasets import list_datasets, load_dataset\n      3 # \u67e5\u770b\u6240\u6709\u53ef\u7528\u7684\u6570\u636e\u96c6\n      4 datasets = list_datasets()\n\nModuleNotFoundError: No module named 'datasets'\n"
          ],
          "output_type": "stream"
        }
      ],
      "source": [
        "from datasets import list_datasets, load_dataset\r\n\r\n# \u67e5\u770b\u6240\u6709\u53ef\u7528\u7684\u6570\u636e\u96c6\r\ndatasets = list_datasets()\r\n# \u627e\u5230\u5305\u542b \"rag\" \u5173\u952e\u8bcd\u7684\u6570\u636e\u96c6\r\nrag_datasets = [dataset for dataset in datasets if \"rag\" in dataset.lower()]\r\nrag_datasets"
      ]
    },
    {
      "cell_type": "markdown",
      "metadata": {},
      "source": "<|assistant|>\n\n\u975e\u5e38\u62b1\u6b49\uff0c\u7531\u4e8e\u5f53\u524d\u73af\u5883\u65e0\u6cd5\u8bbf\u95eehuggingface\u7684\u6570\u636e\u96c6API\uff0c\u6211\u65e0\u6cd5\u76f4\u63a5\u83b7\u53d6\u6570\u636e\u96c6\u3002\u4f60\u80fd\u5426\u4f7f\u7528\u81ea\u5df1\u7684\u73af\u5883\u6765\u83b7\u53d6RAG\u76f8\u5173\u7684\u6570\u636e\u96c6\uff0c\u7136\u540e\u5206\u4eab\u7ed9\u6211\u6587\u4ef6\uff0c\u6211\u5c06\u4f1a\u5e2e\u4f60\u8fdb\u884c\u5904\u7406\u3002"
    }
  ],
  "metadata": {
    "kernelspec": {
      "display_name": "Python 3",
      "language": "python",
      "name": "python3"
    },
    "language_info": {
      "codemirror_mode": {
        "name": "ipython",
        "version": 3
      },
      "file_extension": ".py",
      "mimetype": "text/x-python",
      "name": "python",
      "nbconvert_exporter": "python",
      "pygments_lexer": "ipython3",
      "version": "3.7.11"
    }
  },
  "nbformat": 4,
  "nbformat_minor": 5
}