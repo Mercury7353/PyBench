{
  "cells": [
    {
      "cell_type": "markdown",
      "metadata": {},
      "source": "<|user|>\n\n\u7528python\u5199\u4e00\u4e2a\u8d2a\u5403\u86c7"
    },
    {
      "cell_type": "markdown",
      "metadata": {},
      "source": "<|assistant|>\n\n```python\n# Let's start by creating a simple version of the classic Snake game using the Pygame library.\n\nimport pygame\nimport time\nimport random\n\npygame.init()\n\n# Set up the colors\nwhite = (255, 255, 255)\nyellow = (255, 255, 102)\nblack = (0, 0, 0)\nred = (213, 50, 80)\ngreen = (0, 255, 0)\nblue = (50, 153, 213)\n\n# Set up the display\ndis_width = 800\ndis_height = 600\ndis = pygame.display.set_mode((dis_width, dis_height))\npygame.display.set_caption('Snake Game')\n\nclock = pygame.time.Clock()\n\nsnake_block = 10\nsnake_speed = 30\n\nfont_style = pygame.font.SysFont(None, 50)\n\n# Define the snake\ndef our_snake(snake_block, snake_list):\n    for x in snake_list:\n        pygame.draw.rect(dis, black, [x[0], x[1], snake_block, snake_block])\n\n# Display the message\ndef message(msg, color):\n    mesg = font_style.render(msg, True, color)\n    dis.blit(mesg, [dis_width / 6, dis_height / 3])\n\n# The game loop\ndef gameLoop():\n    game_over = False\n    game_close = False\n\n    x1 = dis_width / 2\n    y1 = dis_height / 2\n\n    x1_change = 0\n    y1_change = 0\n\n    snake_List = []\n    Length_of_snake = 1\n\n    foodx = round(random.randrange(0, dis_width - snake_block) / 10.0) * 10.0\n    foody = round(random.randrange(0, dis_height - snake_block) / 10.0) * 10.0\n\n    while not game_over:\n\n        while game_close == True:\n            dis.fill(blue)\n            message(\"You Lost! Press Q-Quit or C-Play Again\", red)\n            pygame.display.update()\n\n            for event in pygame.event.get():\n                if event.type == pygame.KEYDOWN:\n                    if event.key == pygame.K_q:\n                        game_over = True\n                        game_close = False\n                    if event.key == pygame.K_c:\n                        gameLoop()\n\n        for event in pygame.event.get():\n            if event.type == pygame.QUIT:\n                game_over = True\n            if event.type == pygame.KEYDOWN:\n                if event.key == pygame.K_LEFT:\n                    x1_change = -snake_block\n                    y1_change = 0\n                elif event.key == pygame.K_RIGHT:\n                    x1_change = snake_block\n                    y1_change = 0\n                elif event.key == pygame.K_UP:\n                    y1_change = -snake_block\n                    x1_change = 0\n                elif event.key == pygame.K_DOWN:\n                    y1_change = snake_block\n                    x1_change = 0\n\n        if x1 >= dis_width or x1 < 0 or y1 >= dis_height or y1 < 0:\n            game_close = True\n        x1 += x1_change\n        y1 += y1_change\n        dis.fill(blue)\n        pygame.draw.rect(dis, green, [foodx, foody, snake_block, snake_block])\n        snake_head = []\n        snake_head.append(x1)\n        snake_head.append(y1)\n        snake_List.append(snake_head)\n        if len(snake_List) > Length_of_snake:\n            del snake_List[0]\n\n        for x in snake_List[:-1]:\n            if x == snake_head:\n                game_close = True\n\n        our_snake(snake_block, snake_List)\n\n        pygame.display.update()\n\n        if x1 == foodx and y1 == foody:\n            foodx = round(random.randrange(0, dis_width - snake_block) / 10.0) * 10.0\n            foody = round(random.randrange(0, dis_height - snake_block) / 10.0) * 10.0\n            Length_of_snake += 1\n\n        clock.tick(snake_speed)\n\n    pygame.quit()\n    quit()\n\ngameLoop()\n```"
    }
  ],
  "metadata": {
    "kernelspec": {
      "display_name": "Python 3",
      "language": "python",
      "name": "python3"
    },
    "language_info": {
      "codemirror_mode": {
        "name": "ipython",
        "version": 3
      },
      "file_extension": ".py",
      "mimetype": "text/x-python",
      "name": "python",
      "nbconvert_exporter": "python",
      "pygments_lexer": "ipython3",
      "version": "3.7.11"
    }
  },
  "nbformat": 4,
  "nbformat_minor": 5
}