{
  "cells": [
    {
      "cell_type": "markdown",
      "metadata": {},
      "source": "<|user|>\n\n\u63d0\u53d6\u8fd9\u7bc7\u5c0f\u8bf4\u7684\u5173\u952e\u8bcd\u5e76\u7ed8\u5236\u6210\u8bcd\u4e91"
    },
    {
      "cell_type": "markdown",
      "metadata": {},
      "source": "<|assistant|>\n\n\u597d\u7684\uff0c\u4e3a\u4e86\u83b7\u53d6\u5c0f\u8bf4\u7684\u5173\u952e\u8bcd\uff0c\u6211\u4eec\u9996\u5148\u9700\u8981\u5bf9\u6587\u672c\u8fdb\u884c\u9884\u5904\u7406\uff0c\u5305\u62ec\u53bb\u9664\u505c\u7528\u8bcd\u3001\u6807\u70b9\u7b26\u53f7\u7b49\u3002\u7136\u540e\u6211\u4eec\u53ef\u4ee5\u4f7f\u7528TF-IDF\uff08\u8bcd\u9891-\u9006\u6587\u6863\u9891\u7387\uff09\u7b97\u6cd5\u6765\u63d0\u53d6\u5173\u952e\u8bcd\u3002\u6700\u540e\uff0c\u6211\u4eec\u5c06\u5173\u952e\u8bcd\u7ed8\u5236\u6210\u8bcd\u4e91\u6765\u76f4\u89c2\u5c55\u793a\u3002\n\n\u8ba9\u6211\u4eec\u5f00\u59cb\u7f16\u5199\u4ee3\u7801\u6765\u5b9e\u73b0\u8fd9\u4e9b\u6b65\u9aa4\u3002\u9996\u5148\uff0c\u6211\u4eec\u5c06\u8bfb\u53d6\u5c0f\u8bf4\u6587\u672c\u6587\u4ef6\u5e76\u8fdb\u884c\u9884\u5904\u7406\uff0c\u7136\u540e\u63d0\u53d6\u5173\u952e\u8bcd\u3002"
    },
    {
      "cell_type": "code",
      "execution_count": null,
      "metadata": {},
      "outputs": [
        {
          "name": "stdout",
          "text": [
            "---------------------------------------------------------------------------\nFileNotFoundError                         Traceback (most recent call last)\nCell In[1], line 8\n      5 import re\n      7 # \u8bfb\u53d6\u5c0f\u8bf4\u6587\u672c\u6587\u4ef6\n----> 8 with open(\\"
          ],
          "output_type": "stream"
        }
      ],
      "source": [
        "from sklearn.feature_extraction.text import TfidfVectorizer\nfrom wordcloud import WordCloud\nimport matplotlib.pyplot as plt\nimport pandas as pd\nimport re\n\n# \u8bfb\u53d6\u5c0f\u8bf4\u6587\u672c\u6587\u4ef6\nwith open('/mnt/data/novel.txt', 'r', encoding='utf-8') as file:\n    novel_text = file.read()\n\n# \u6570\u636e\u9884\u5904\u7406\uff1a\u53bb\u9664\u6807\u70b9\u7b26\u53f7\u3001\u505c\u7528\u8bcd\u7b49\ndef preprocess_text(text):\n    text = re.sub(r'[^a-zA-Z\\\\s]', '', text)  # \u53bb\u9664\u6807\u70b9\u7b26\u53f7\n    text = text.lower()  # \u8f6c\u6362\u4e3a\u5c0f\u5199\n    return text\n\nnovel_text_processed = preprocess_text(novel_text)\n\n# \u63d0\u53d6\u5173\u952e\u8bcd\ntfidf = TfidfVectorizer()\ntfidf_matrix = tfidf.fit_transform([novel_text_processed])\nfeature_names = tfidf.get_feature_names_out()\ntfidf_scores = tfidf_matrix.toarray()[0]\n\n# \u6784\u5efa\u5173\u952e\u8bcd\u548c\u5bf9\u5e94\u7684TF-IDF\u503c\u7684DataFrame\nkeywords_df = pd.DataFrame({'keyword': feature_names, 'tfidf_score': tfidf_scores})\nkeywords_df = keywords_df.sort_values(by='tfidf_score', ascending=False).head(20)\n\n# \u7ed8\u5236\u8bcd\u4e91\nwordcloud = WordCloud(width=800, height=400, background_color='white').generate(novel_text_processed)\n\nplt.figure(figsize=(10, 5))\nplt.imshow(wordcloud, interpolation='bilinear')\nplt.axis('off')\nplt.show()\n\nkeywords_df"
      ]
    },
    {
      "cell_type": "markdown",
      "metadata": {},
      "source": "<|assistant|>\n\nIt seems that I don't have access to the `novel.txt` file. Could you please upload the file so that I can proceed with the analysis and visualization?"
    }
  ],
  "metadata": {
    "kernelspec": {
      "display_name": "Python 3",
      "language": "python",
      "name": "python3"
    },
    "language_info": {
      "codemirror_mode": {
        "name": "ipython",
        "version": 3
      },
      "file_extension": ".py",
      "mimetype": "text/x-python",
      "name": "python",
      "nbconvert_exporter": "python",
      "pygments_lexer": "ipython3",
      "version": "3.7.11"
    }
  },
  "nbformat": 4,
  "nbformat_minor": 5
}