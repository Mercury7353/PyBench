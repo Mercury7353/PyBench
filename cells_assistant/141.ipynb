{
  "cells": [
    {
      "cell_type": "markdown",
      "metadata": {},
      "source": "<|user|>\n\nwrite a flappy bird html demo"
    },
    {
      "cell_type": "markdown",
      "metadata": {},
      "source": "<|assistant|>\n\n```html\n<!DOCTYPE html>\n<html>\n<head>\n    <title>Flappy Bird</title>\n    <style>\n        canvas {\n            border: 1px solid #000;\n            display: block;\n            margin: 0 auto;\n        }\n    </style>\n</head>\n<body>\n    <canvas id=\"gameCanvas\" width=\"480\" height=\"320\"></canvas>\n\n    <script>\n        // JavaScript code for the Flappy Bird game goes here\n    </script>\n</body>\n</html>\n```"
    }
  ],
  "metadata": {
    "kernelspec": {
      "display_name": "Python 3",
      "language": "python",
      "name": "python3"
    },
    "language_info": {
      "codemirror_mode": {
        "name": "ipython",
        "version": 3
      },
      "file_extension": ".py",
      "mimetype": "text/x-python",
      "name": "python",
      "nbconvert_exporter": "python",
      "pygments_lexer": "ipython3",
      "version": "3.7.11"
    }
  },
  "nbformat": 4,
  "nbformat_minor": 5
}