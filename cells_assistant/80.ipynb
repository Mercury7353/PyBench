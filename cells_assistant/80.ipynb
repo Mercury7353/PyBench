{
  "cells": [
    {
      "cell_type": "markdown",
      "metadata": {},
      "source": "<|user|>\n\n\u5411\u5de6\u65cb\u8f6c90\u5ea6"
    },
    {
      "cell_type": "markdown",
      "metadata": {},
      "source": "<|assistant|>\n\nTo rotate an image 90 degrees to the left, we can use the Python Imaging Library (PIL) to open the image, rotate it, and then save the rotated image to a new file. Let me implement the code to do this."
    },
    {
      "cell_type": "code",
      "execution_count": null,
      "metadata": {},
      "outputs": [
        {
          "name": "stdout",
          "text": [
            "'/mnt/data/rotated_image_left_90.jpg'"
          ],
          "output_type": "stream"
        }
      ],
      "source": [
        "from PIL import Image\n\n# Open the image file\nimage_path = '/mnt/data/assistant-r8ImRXToDXoieQarDNCG9Cgg'\nimage = Image.open(image_path)\n\n# Rotate the image 90 degrees to the left\nrotated_image = image.rotate(90, expand=True)\n\n# Save the rotated image to a new file\nrotated_image_path = '/mnt/data/rotated_image_left_90.jpg'\nrotated_image.save(rotated_image_path)\n\nrotated_image_path"
      ]
    },
    {
      "cell_type": "markdown",
      "metadata": {},
      "source": "<|assistant|>\n\nThe image has been successfully rotated 90 degrees to the left. You can download the rotated image using the link below:\n\n[Download Rotated Image](sandbox:/mnt/data/rotated_image_left_90.jpg)"
    }
  ],
  "metadata": {
    "kernelspec": {
      "display_name": "Python 3",
      "language": "python",
      "name": "python3"
    },
    "language_info": {
      "codemirror_mode": {
        "name": "ipython",
        "version": 3
      },
      "file_extension": ".py",
      "mimetype": "text/x-python",
      "name": "python",
      "nbconvert_exporter": "python",
      "pygments_lexer": "ipython3",
      "version": "3.7.11"
    }
  },
  "nbformat": 4,
  "nbformat_minor": 5
}