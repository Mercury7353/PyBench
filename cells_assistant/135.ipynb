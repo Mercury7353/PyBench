{
  "cells": [
    {
      "cell_type": "markdown",
      "metadata": {},
      "source": "<|user|>\n\n1\u523010000\u7684\u5012\u6570\u4e4b\u548c\u662f\u591a\u5c11\uff0c\u4fdd\u755910\u4f4d\u5c0f\u6570"
    },
    {
      "cell_type": "markdown",
      "metadata": {},
      "source": "<|assistant|>\n\n\u5012\u6570\u4e4b\u548c\u4e3a9.7876060360"
    },
    {
      "cell_type": "code",
      "execution_count": null,
      "metadata": {},
      "outputs": [
        {
          "name": "stdout",
          "text": [
            "9.787606036044348"
          ],
          "output_type": "stream"
        }
      ],
      "source": [
        "# Calculate the sum of the reciprocals of numbers from 1 to 10000\r\ntotal_sum = sum(1/n for n in range(1, 10001))\r\n\r\n# Display the result with 10 decimal places\r\ntotal_sum"
      ]
    }
  ],
  "metadata": {
    "kernelspec": {
      "display_name": "Python 3",
      "language": "python",
      "name": "python3"
    },
    "language_info": {
      "codemirror_mode": {
        "name": "ipython",
        "version": 3
      },
      "file_extension": ".py",
      "mimetype": "text/x-python",
      "name": "python",
      "nbconvert_exporter": "python",
      "pygments_lexer": "ipython3",
      "version": "3.7.11"
    }
  },
  "nbformat": 4,
  "nbformat_minor": 5
}